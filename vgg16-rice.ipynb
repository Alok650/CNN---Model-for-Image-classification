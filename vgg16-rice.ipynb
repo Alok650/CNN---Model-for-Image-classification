{
 "cells": [
  {
   "cell_type": "markdown",
   "id": "1ca41365",
   "metadata": {
    "papermill": {
     "duration": 0.02954,
     "end_time": "2022-11-25T16:17:35.137865",
     "exception": false,
     "start_time": "2022-11-25T16:17:35.108325",
     "status": "completed"
    },
    "tags": []
   },
   "source": [
    "# RICE LEAF DISEASE DETECTION USING CONVOLUTIONAL NEURAL NETWORK\n"
   ]
  },
  {
   "cell_type": "markdown",
   "id": "c8abcda8",
   "metadata": {
    "papermill": {
     "duration": 0.028539,
     "end_time": "2022-11-25T16:17:35.195846",
     "exception": false,
     "start_time": "2022-11-25T16:17:35.167307",
     "status": "completed"
    },
    "tags": []
   },
   "source": [
    "**IMPORT LIBRARY CNN**"
   ]
  },
  {
   "cell_type": "code",
   "execution_count": 1,
   "id": "40933c92",
   "metadata": {
    "_cell_guid": "b1076dfc-b9ad-4769-8c92-a6c4dae69d19",
    "_uuid": "8f2839f25d086af736a60e9eeb907d3b93b6e0e5",
    "execution": {
     "iopub.execute_input": "2022-11-25T16:17:35.256522Z",
     "iopub.status.busy": "2022-11-25T16:17:35.256155Z",
     "iopub.status.idle": "2022-11-25T16:17:41.153832Z",
     "shell.execute_reply": "2022-11-25T16:17:41.153040Z"
    },
    "papermill": {
     "duration": 5.929633,
     "end_time": "2022-11-25T16:17:41.156204",
     "exception": false,
     "start_time": "2022-11-25T16:17:35.226571",
     "status": "completed"
    },
    "tags": []
   },
   "outputs": [],
   "source": [
    "import os\n",
    "import numpy as np\n",
    "import pandas as pd\n",
    "import tqdm as tqdm\n",
    "import cv2 as cv\n",
    "import keras\n",
    "from keras.models import Sequential\n",
    "from keras.layers import Conv2D , MaxPooling2D ,GlobalAveragePooling2D ,Flatten , Dense , Dropout , BatchNormalization \n",
    "from PIL import Image\n",
    "import matplotlib.pyplot as plt\n",
    "from sklearn.model_selection import train_test_split\n",
    "from sklearn.preprocessing import OneHotEncoder\n",
    "import tensorflow as tf\n",
    "tf.keras.applications.VGG16\n",
    "from keras.applications.vgg16 import VGG16\n",
    "from keras.layers import Dense, Dropout, Activation, Flatten, GlobalAveragePooling2D\n",
    "from keras.layers import Conv2D, MaxPooling2D, ZeroPadding2D\n",
    "from keras.models import Model"
   ]
  },
  {
   "cell_type": "code",
   "execution_count": 2,
   "id": "1a6283e3",
   "metadata": {
    "execution": {
     "iopub.execute_input": "2022-11-25T16:17:41.215189Z",
     "iopub.status.busy": "2022-11-25T16:17:41.214980Z",
     "iopub.status.idle": "2022-11-25T16:17:41.224630Z",
     "shell.execute_reply": "2022-11-25T16:17:41.223937Z"
    },
    "papermill": {
     "duration": 0.041039,
     "end_time": "2022-11-25T16:17:41.226457",
     "exception": false,
     "start_time": "2022-11-25T16:17:41.185418",
     "status": "completed"
    },
    "tags": []
   },
   "outputs": [
    {
     "data": {
      "text/plain": [
       "OneHotEncoder()"
      ]
     },
     "execution_count": 2,
     "metadata": {},
     "output_type": "execute_result"
    }
   ],
   "source": [
    "encoder = OneHotEncoder()     #LabelEncoder encode labels with value between 0 and n_classes-1\n",
    "encoder.fit([[0],[1],[2],[3]])   "
   ]
  },
  {
   "cell_type": "markdown",
   "id": "fd7dc01d",
   "metadata": {
    "papermill": {
     "duration": 0.028455,
     "end_time": "2022-11-25T16:17:41.283852",
     "exception": false,
     "start_time": "2022-11-25T16:17:41.255397",
     "status": "completed"
    },
    "tags": []
   },
   "source": [
    "**INITIAL STATE**"
   ]
  },
  {
   "cell_type": "code",
   "execution_count": 3,
   "id": "8715cdf9",
   "metadata": {
    "execution": {
     "iopub.execute_input": "2022-11-25T16:17:41.343624Z",
     "iopub.status.busy": "2022-11-25T16:17:41.343017Z",
     "iopub.status.idle": "2022-11-25T16:18:03.871492Z",
     "shell.execute_reply": "2022-11-25T16:18:03.870284Z"
    },
    "papermill": {
     "duration": 22.560261,
     "end_time": "2022-11-25T16:18:03.873368",
     "exception": false,
     "start_time": "2022-11-25T16:17:41.313107",
     "status": "completed"
    },
    "tags": []
   },
   "outputs": [
    {
     "name": "stdout",
     "output_type": "stream",
     "text": [
      "636\n"
     ]
    }
   ],
   "source": [
    "input_path = []\n",
    "label = []\n",
    "data = []\n",
    "paths = []\n",
    "result = []\n",
    "fpath = []\n",
    "for r,d,f in os.walk(r\"../input/ricediseasedataset/rice-disease-dataset/data/Rice___Brown_Spot\"):\n",
    "    for file in f:\n",
    "        if '.jpg' in file:\n",
    "            paths.append(os.path.join(r,file))\n",
    "for path in paths:\n",
    "    img = Image.open(path)\n",
    "    img = img.resize((224,224))\n",
    "    img = np.array(img)\n",
    "    if(img.shape == (224,224,3)):\n",
    "        data.append(img)\n",
    "        label.append(0)\n",
    "        input_path.append(os.path.join(\"Rice_Brown_Spot\",\"Rice_Brown_Spot\",path))\n",
    "        result.append(encoder.transform([[0]]).toarray())\n",
    "print(len(paths))"
   ]
  },
  {
   "cell_type": "code",
   "execution_count": 4,
   "id": "7d7511f0",
   "metadata": {
    "execution": {
     "iopub.execute_input": "2022-11-25T16:18:03.933350Z",
     "iopub.status.busy": "2022-11-25T16:18:03.933126Z",
     "iopub.status.idle": "2022-11-25T16:18:12.315447Z",
     "shell.execute_reply": "2022-11-25T16:18:12.314029Z"
    },
    "papermill": {
     "duration": 8.415042,
     "end_time": "2022-11-25T16:18:12.317951",
     "exception": false,
     "start_time": "2022-11-25T16:18:03.902909",
     "status": "completed"
    },
    "tags": []
   },
   "outputs": [
    {
     "name": "stdout",
     "output_type": "stream",
     "text": [
      "1488\n"
     ]
    }
   ],
   "source": [
    "paths = []\n",
    "for r,d,f in os.walk(r\"../input/ricediseasedataset/rice-disease-dataset/data/Rice___Healthy\"):\n",
    "    for file in f:\n",
    "        if '.jpg' in file:\n",
    "            paths.append(os.path.join(r,file))\n",
    "for path in paths:\n",
    "    img = Image.open(path)\n",
    "    img = img.resize((224,224))\n",
    "    img = np.array(img)\n",
    "    if(img.shape == (224,224,3)):\n",
    "        data.append(img)\n",
    "        label.append(1)\n",
    "        input_path.append(os.path.join(\"Rice_Healthy\",\"Rice_Healthy\",path))\n",
    "        result.append(encoder.transform([[1]]).toarray())\n",
    "print(len(paths))"
   ]
  },
  {
   "cell_type": "code",
   "execution_count": 5,
   "id": "2ee48cf6",
   "metadata": {
    "execution": {
     "iopub.execute_input": "2022-11-25T16:18:12.381100Z",
     "iopub.status.busy": "2022-11-25T16:18:12.380377Z",
     "iopub.status.idle": "2022-11-25T16:18:58.491364Z",
     "shell.execute_reply": "2022-11-25T16:18:58.490577Z"
    },
    "papermill": {
     "duration": 46.174686,
     "end_time": "2022-11-25T16:18:58.523805",
     "exception": false,
     "start_time": "2022-11-25T16:18:12.349119",
     "status": "completed"
    },
    "tags": []
   },
   "outputs": [
    {
     "name": "stdout",
     "output_type": "stream",
     "text": [
      "977\n"
     ]
    }
   ],
   "source": [
    "paths = []\n",
    "for r,d,f in os.walk(r\"../input/ricediseasedataset/rice-disease-dataset/data/Rice___Leaf_Blast\"):\n",
    "    for file in f:\n",
    "        if '.jpg' in file:\n",
    "            paths.append(os.path.join(r,file))\n",
    "for path in paths:\n",
    "    img = Image.open(path)\n",
    "    img = img.resize((224,224))\n",
    "    img = np.array(img)\n",
    "    if(img.shape == (224,224,3)):\n",
    "        data.append(img)\n",
    "        label.append(2)\n",
    "        input_path.append(os.path.join(\"Rice_Leaf_Blast\",\"Rice_Leaf_Blast\",path))\n",
    "        result.append(encoder.transform([[2]]).toarray())\n",
    "print(len(paths))"
   ]
  },
  {
   "cell_type": "code",
   "execution_count": 6,
   "id": "e86b9482",
   "metadata": {
    "execution": {
     "iopub.execute_input": "2022-11-25T16:18:58.585364Z",
     "iopub.status.busy": "2022-11-25T16:18:58.585140Z",
     "iopub.status.idle": "2022-11-25T16:22:54.576913Z",
     "shell.execute_reply": "2022-11-25T16:22:54.576043Z"
    },
    "papermill": {
     "duration": 236.054006,
     "end_time": "2022-11-25T16:22:54.608489",
     "exception": false,
     "start_time": "2022-11-25T16:18:58.554483",
     "status": "completed"
    },
    "tags": []
   },
   "outputs": [
    {
     "name": "stdout",
     "output_type": "stream",
     "text": [
      "1000\n"
     ]
    }
   ],
   "source": [
    "paths = []\n",
    "for r,d,f in os.walk(r\"../input/ricediseasedataset/rice-disease-dataset/data/Rice___Neck_Blast\"):\n",
    "    for file in f:\n",
    "        if '.jpg' in file:\n",
    "            paths.append(os.path.join(r,file))\n",
    "for path in paths:\n",
    "    img = Image.open(path)\n",
    "    img = img.resize((224,224))\n",
    "    img = np.array(img)\n",
    "    if(img.shape == (224,224,3)):\n",
    "        data.append(img)\n",
    "        label.append(3)\n",
    "        input_path.append(os.path.join(\"Healthy\",\"Healthy\",path))\n",
    "        result.append(encoder.transform([[3]]).toarray())\n",
    "print(len(paths))"
   ]
  },
  {
   "cell_type": "markdown",
   "id": "adfc72be",
   "metadata": {
    "papermill": {
     "duration": 0.030065,
     "end_time": "2022-11-25T16:22:54.668640",
     "exception": false,
     "start_time": "2022-11-25T16:22:54.638575",
     "status": "completed"
    },
    "tags": []
   },
   "source": [
    "**LOADING DATASET**"
   ]
  },
  {
   "cell_type": "code",
   "execution_count": 7,
   "id": "dd0ef11b",
   "metadata": {
    "execution": {
     "iopub.execute_input": "2022-11-25T16:22:54.729630Z",
     "iopub.status.busy": "2022-11-25T16:22:54.729396Z",
     "iopub.status.idle": "2022-11-25T16:22:54.760012Z",
     "shell.execute_reply": "2022-11-25T16:22:54.759201Z"
    },
    "papermill": {
     "duration": 0.063956,
     "end_time": "2022-11-25T16:22:54.762318",
     "exception": false,
     "start_time": "2022-11-25T16:22:54.698362",
     "status": "completed"
    },
    "tags": []
   },
   "outputs": [
    {
     "data": {
      "text/html": [
       "<div>\n",
       "<style scoped>\n",
       "    .dataframe tbody tr th:only-of-type {\n",
       "        vertical-align: middle;\n",
       "    }\n",
       "\n",
       "    .dataframe tbody tr th {\n",
       "        vertical-align: top;\n",
       "    }\n",
       "\n",
       "    .dataframe thead th {\n",
       "        text-align: right;\n",
       "    }\n",
       "</style>\n",
       "<table border=\"1\" class=\"dataframe\">\n",
       "  <thead>\n",
       "    <tr style=\"text-align: right;\">\n",
       "      <th></th>\n",
       "      <th>images</th>\n",
       "      <th>label</th>\n",
       "    </tr>\n",
       "  </thead>\n",
       "  <tbody>\n",
       "    <tr>\n",
       "      <th>0</th>\n",
       "      <td>Rice_Healthy/Rice_Healthy/../input/ricedisease...</td>\n",
       "      <td>1</td>\n",
       "    </tr>\n",
       "    <tr>\n",
       "      <th>1</th>\n",
       "      <td>Rice_Healthy/Rice_Healthy/../input/ricedisease...</td>\n",
       "      <td>1</td>\n",
       "    </tr>\n",
       "    <tr>\n",
       "      <th>2</th>\n",
       "      <td>Rice_Healthy/Rice_Healthy/../input/ricedisease...</td>\n",
       "      <td>1</td>\n",
       "    </tr>\n",
       "    <tr>\n",
       "      <th>3</th>\n",
       "      <td>Rice_Brown_Spot/Rice_Brown_Spot/../input/riced...</td>\n",
       "      <td>0</td>\n",
       "    </tr>\n",
       "    <tr>\n",
       "      <th>4</th>\n",
       "      <td>Healthy/Healthy/../input/ricediseasedataset/ri...</td>\n",
       "      <td>3</td>\n",
       "    </tr>\n",
       "  </tbody>\n",
       "</table>\n",
       "</div>"
      ],
      "text/plain": [
       "                                              images  label\n",
       "0  Rice_Healthy/Rice_Healthy/../input/ricedisease...      1\n",
       "1  Rice_Healthy/Rice_Healthy/../input/ricedisease...      1\n",
       "2  Rice_Healthy/Rice_Healthy/../input/ricedisease...      1\n",
       "3  Rice_Brown_Spot/Rice_Brown_Spot/../input/riced...      0\n",
       "4  Healthy/Healthy/../input/ricediseasedataset/ri...      3"
      ]
     },
     "execution_count": 7,
     "metadata": {},
     "output_type": "execute_result"
    }
   ],
   "source": [
    "df = pd.DataFrame()\n",
    "df['images'] = input_path\n",
    "df['label'] = label\n",
    "df=df.sample(frac=1).reset_index(drop=True)\n",
    "df.head()"
   ]
  },
  {
   "cell_type": "code",
   "execution_count": 8,
   "id": "3647f3af",
   "metadata": {
    "execution": {
     "iopub.execute_input": "2022-11-25T16:22:54.826475Z",
     "iopub.status.busy": "2022-11-25T16:22:54.825784Z",
     "iopub.status.idle": "2022-11-25T16:22:54.834593Z",
     "shell.execute_reply": "2022-11-25T16:22:54.833939Z"
    },
    "papermill": {
     "duration": 0.042133,
     "end_time": "2022-11-25T16:22:54.836251",
     "exception": false,
     "start_time": "2022-11-25T16:22:54.794118",
     "status": "completed"
    },
    "tags": []
   },
   "outputs": [
    {
     "data": {
      "text/plain": [
       "array([1, 0, 3, 2])"
      ]
     },
     "execution_count": 8,
     "metadata": {},
     "output_type": "execute_result"
    }
   ],
   "source": [
    "pd.unique(df['label'])"
   ]
  },
  {
   "cell_type": "code",
   "execution_count": 9,
   "id": "89f5ff78",
   "metadata": {
    "execution": {
     "iopub.execute_input": "2022-11-25T16:22:54.899111Z",
     "iopub.status.busy": "2022-11-25T16:22:54.898502Z",
     "iopub.status.idle": "2022-11-25T16:22:55.248895Z",
     "shell.execute_reply": "2022-11-25T16:22:55.248180Z"
    },
    "papermill": {
     "duration": 0.383856,
     "end_time": "2022-11-25T16:22:55.250818",
     "exception": false,
     "start_time": "2022-11-25T16:22:54.866962",
     "status": "completed"
    },
    "tags": []
   },
   "outputs": [
    {
     "name": "stderr",
     "output_type": "stream",
     "text": [
      "/opt/conda/lib/python3.7/site-packages/seaborn/_decorators.py:43: FutureWarning: Pass the following variable as a keyword arg: x. From version 0.12, the only valid positional argument will be `data`, and passing other arguments without an explicit keyword will result in an error or misinterpretation.\n",
      "  FutureWarning\n"
     ]
    },
    {
     "data": {
      "text/plain": [
       "<AxesSubplot:xlabel='label', ylabel='count'>"
      ]
     },
     "execution_count": 9,
     "metadata": {},
     "output_type": "execute_result"
    },
    {
     "data": {
      "image/png": "[encoded data removed]",
      "text/plain": [
       "<Figure size 432x288 with 1 Axes>"
      ]
     },
     "metadata": {
      "needs_background": "light"
     },
     "output_type": "display_data"
    }
   ],
   "source": [
    "import seaborn as sns\n",
    "sns.countplot(df['label'])"
   ]
  },
  {
   "cell_type": "code",
   "execution_count": 10,
   "id": "8eefed6d",
   "metadata": {
    "execution": {
     "iopub.execute_input": "2022-11-25T16:22:55.316125Z",
     "iopub.status.busy": "2022-11-25T16:22:55.315907Z",
     "iopub.status.idle": "2022-11-25T16:22:55.320065Z",
     "shell.execute_reply": "2022-11-25T16:22:55.319392Z"
    },
    "papermill": {
     "duration": 0.039565,
     "end_time": "2022-11-25T16:22:55.322566",
     "exception": false,
     "start_time": "2022-11-25T16:22:55.283001",
     "status": "completed"
    },
    "tags": []
   },
   "outputs": [
    {
     "name": "stdout",
     "output_type": "stream",
     "text": [
      "Total no.of images are : 4101\n"
     ]
    }
   ],
   "source": [
    "print(\"Total no.of images are :\",len(result))\n"
   ]
  },
  {
   "cell_type": "code",
   "execution_count": 11,
   "id": "4688a0eb",
   "metadata": {
    "execution": {
     "iopub.execute_input": "2022-11-25T16:22:55.389467Z",
     "iopub.status.busy": "2022-11-25T16:22:55.389246Z",
     "iopub.status.idle": "2022-11-25T16:22:55.396691Z",
     "shell.execute_reply": "2022-11-25T16:22:55.396007Z"
    },
    "papermill": {
     "duration": 0.042407,
     "end_time": "2022-11-25T16:22:55.398321",
     "exception": false,
     "start_time": "2022-11-25T16:22:55.355914",
     "status": "completed"
    },
    "tags": []
   },
   "outputs": [],
   "source": [
    "result = np.array(result)\n",
    "result = result.reshape(-1,4)"
   ]
  },
  {
   "cell_type": "code",
   "execution_count": 12,
   "id": "5adef294",
   "metadata": {
    "execution": {
     "iopub.execute_input": "2022-11-25T16:22:55.464151Z",
     "iopub.status.busy": "2022-11-25T16:22:55.463574Z",
     "iopub.status.idle": "2022-11-25T16:22:55.653233Z",
     "shell.execute_reply": "2022-11-25T16:22:55.652368Z"
    },
    "papermill": {
     "duration": 0.224934,
     "end_time": "2022-11-25T16:22:55.655533",
     "exception": false,
     "start_time": "2022-11-25T16:22:55.430599",
     "status": "completed"
    },
    "tags": []
   },
   "outputs": [
    {
     "data": {
      "text/plain": [
       "(4101, 224, 224, 3)"
      ]
     },
     "execution_count": 12,
     "metadata": {},
     "output_type": "execute_result"
    }
   ],
   "source": [
    "data = np.array(data)\n",
    "data.shape"
   ]
  },
  {
   "cell_type": "code",
   "execution_count": 13,
   "id": "57c68333",
   "metadata": {
    "execution": {
     "iopub.execute_input": "2022-11-25T16:22:55.721975Z",
     "iopub.status.busy": "2022-11-25T16:22:55.721756Z",
     "iopub.status.idle": "2022-11-25T16:22:56.050309Z",
     "shell.execute_reply": "2022-11-25T16:22:56.049565Z"
    },
    "papermill": {
     "duration": 0.364168,
     "end_time": "2022-11-25T16:22:56.052662",
     "exception": false,
     "start_time": "2022-11-25T16:22:55.688494",
     "status": "completed"
    },
    "tags": []
   },
   "outputs": [
    {
     "data": {
      "image/png": "[encoded data removed]",
      "text/plain": [
       "<Figure size 720x720 with 6 Axes>"
      ]
     },
     "metadata": {
      "needs_background": "light"
     },
     "output_type": "display_data"
    }
   ],
   "source": [
    "%matplotlib inline\n",
    "plt.figure(figsize=(10, 10))\n",
    "for i in range(6):\n",
    "    plt.subplot(1, 6, i+1)\n",
    "    plt.imshow(data[i], cmap=\"gray\")\n",
    "    plt.axis('off')\n",
    "plt.show()"
   ]
  },
  {
   "cell_type": "code",
   "execution_count": 14,
   "id": "6b1d11c1",
   "metadata": {
    "execution": {
     "iopub.execute_input": "2022-11-25T16:22:56.135253Z",
     "iopub.status.busy": "2022-11-25T16:22:56.135032Z",
     "iopub.status.idle": "2022-11-25T16:22:56.305492Z",
     "shell.execute_reply": "2022-11-25T16:22:56.304693Z"
    },
    "papermill": {
     "duration": 0.220423,
     "end_time": "2022-11-25T16:22:56.307727",
     "exception": false,
     "start_time": "2022-11-25T16:22:56.087304",
     "status": "completed"
    },
    "tags": []
   },
   "outputs": [],
   "source": [
    "x_train , x_test , y_train , y_test = train_test_split(data , result , test_size = 0.2 , shuffle = True , random_state = 42)"
   ]
  },
  {
   "cell_type": "code",
   "execution_count": 15,
   "id": "b9c02c56",
   "metadata": {
    "execution": {
     "iopub.execute_input": "2022-11-25T16:22:56.378875Z",
     "iopub.status.busy": "2022-11-25T16:22:56.378654Z",
     "iopub.status.idle": "2022-11-25T16:22:56.385120Z",
     "shell.execute_reply": "2022-11-25T16:22:56.382978Z"
    },
    "papermill": {
     "duration": 0.043523,
     "end_time": "2022-11-25T16:22:56.386826",
     "exception": false,
     "start_time": "2022-11-25T16:22:56.343303",
     "status": "completed"
    },
    "tags": []
   },
   "outputs": [
    {
     "name": "stdout",
     "output_type": "stream",
     "text": [
      "Shape of an image in x_train :  (224, 224, 3)\n",
      "Shape of an image in x_test :  (224, 224, 3)\n"
     ]
    }
   ],
   "source": [
    "print(\"Shape of an image in x_train : \",x_train[0].shape)\n",
    "print(\"Shape of an image in x_test : \",x_test[0].shape)"
   ]
  },
  {
   "cell_type": "code",
   "execution_count": 16,
   "id": "193b7fff",
   "metadata": {
    "execution": {
     "iopub.execute_input": "2022-11-25T16:22:56.457605Z",
     "iopub.status.busy": "2022-11-25T16:22:56.457395Z",
     "iopub.status.idle": "2022-11-25T16:22:56.662585Z",
     "shell.execute_reply": "2022-11-25T16:22:56.661788Z"
    },
    "papermill": {
     "duration": 0.243121,
     "end_time": "2022-11-25T16:22:56.664690",
     "exception": false,
     "start_time": "2022-11-25T16:22:56.421569",
     "status": "completed"
    },
    "tags": []
   },
   "outputs": [],
   "source": [
    "x_train = np.array(x_train)\n",
    "x_test = np.array(x_test)\n",
    "y_train = np.array(y_train)\n",
    "y_test = np.array(y_test)"
   ]
  },
  {
   "cell_type": "code",
   "execution_count": 17,
   "id": "5770d796",
   "metadata": {
    "execution": {
     "iopub.execute_input": "2022-11-25T16:22:56.734826Z",
     "iopub.status.busy": "2022-11-25T16:22:56.734613Z",
     "iopub.status.idle": "2022-11-25T16:22:56.740754Z",
     "shell.execute_reply": "2022-11-25T16:22:56.739914Z"
    },
    "papermill": {
     "duration": 0.043914,
     "end_time": "2022-11-25T16:22:56.743325",
     "exception": false,
     "start_time": "2022-11-25T16:22:56.699411",
     "status": "completed"
    },
    "tags": []
   },
   "outputs": [
    {
     "name": "stdout",
     "output_type": "stream",
     "text": [
      "x_train Shape :  (3280, 224, 224, 3)\n",
      "x_test Shape :  (821, 224, 224, 3)\n",
      "y_train Shape:  (3280, 4)\n",
      "y_test Shape:  (821, 4)\n"
     ]
    }
   ],
   "source": [
    "print(\"x_train Shape : \", x_train.shape) \n",
    "print(\"x_test Shape : \", x_test.shape)\n",
    "print(\"y_train Shape: \", y_train.shape) \n",
    "print(\"y_test Shape: \", y_test.shape)"
   ]
  },
  {
   "cell_type": "code",
   "execution_count": 18,
   "id": "06c1ec93",
   "metadata": {
    "execution": {
     "iopub.execute_input": "2022-11-25T16:22:56.813599Z",
     "iopub.status.busy": "2022-11-25T16:22:56.813401Z",
     "iopub.status.idle": "2022-11-25T16:23:02.073023Z",
     "shell.execute_reply": "2022-11-25T16:23:02.072207Z"
    },
    "papermill": {
     "duration": 5.297018,
     "end_time": "2022-11-25T16:23:02.075063",
     "exception": false,
     "start_time": "2022-11-25T16:22:56.778045",
     "status": "completed"
    },
    "tags": []
   },
   "outputs": [
    {
     "name": "stderr",
     "output_type": "stream",
     "text": [
      "2022-11-25 16:22:56.906368: I tensorflow/stream_executor/cuda/cuda_gpu_executor.cc:937] successful NUMA node read from SysFS had negative value (-1), but there must be at least one NUMA node, so returning NUMA node zero\n",
      "2022-11-25 16:22:57.012944: I tensorflow/stream_executor/cuda/cuda_gpu_executor.cc:937] successful NUMA node read from SysFS had negative value (-1), but there must be at least one NUMA node, so returning NUMA node zero\n",
      "2022-11-25 16:22:57.013785: I tensorflow/stream_executor/cuda/cuda_gpu_executor.cc:937] successful NUMA node read from SysFS had negative value (-1), but there must be at least one NUMA node, so returning NUMA node zero\n",
      "2022-11-25 16:22:57.015078: I tensorflow/core/platform/cpu_feature_guard.cc:142] This TensorFlow binary is optimized with oneAPI Deep Neural Network Library (oneDNN) to use the following CPU instructions in performance-critical operations:  AVX2 AVX512F FMA\n",
      "To enable them in other operations, rebuild TensorFlow with the appropriate compiler flags.\n",
      "2022-11-25 16:22:57.015434: I tensorflow/stream_executor/cuda/cuda_gpu_executor.cc:937] successful NUMA node read from SysFS had negative value (-1), but there must be at least one NUMA node, so returning NUMA node zero\n",
      "2022-11-25 16:22:57.016347: I tensorflow/stream_executor/cuda/cuda_gpu_executor.cc:937] successful NUMA node read from SysFS had negative value (-1), but there must be at least one NUMA node, so returning NUMA node zero\n",
      "2022-11-25 16:22:57.017216: I tensorflow/stream_executor/cuda/cuda_gpu_executor.cc:937] successful NUMA node read from SysFS had negative value (-1), but there must be at least one NUMA node, so returning NUMA node zero\n",
      "2022-11-25 16:22:58.932907: I tensorflow/stream_executor/cuda/cuda_gpu_executor.cc:937] successful NUMA node read from SysFS had negative value (-1), but there must be at least one NUMA node, so returning NUMA node zero\n",
      "2022-11-25 16:22:58.933832: I tensorflow/stream_executor/cuda/cuda_gpu_executor.cc:937] successful NUMA node read from SysFS had negative value (-1), but there must be at least one NUMA node, so returning NUMA node zero\n",
      "2022-11-25 16:22:58.934553: I tensorflow/stream_executor/cuda/cuda_gpu_executor.cc:937] successful NUMA node read from SysFS had negative value (-1), but there must be at least one NUMA node, so returning NUMA node zero\n",
      "2022-11-25 16:22:58.935891: I tensorflow/core/common_runtime/gpu/gpu_device.cc:1510] Created device /job:localhost/replica:0/task:0/device:GPU:0 with 15403 MB memory:  -> device: 0, name: Tesla P100-PCIE-16GB, pci bus id: 0000:00:04.0, compute capability: 6.0\n"
     ]
    },
    {
     "name": "stdout",
     "output_type": "stream",
     "text": [
      "Downloading data from https://storage.googleapis.com/tensorflow/keras-applications/vgg16/vgg16_weights_tf_dim_ordering_tf_kernels_notop.h5\n",
      "58892288/58889256 [==============================] - 2s 0us/step\n",
      "58900480/58889256 [==============================] - 2s 0us/step\n"
     ]
    }
   ],
   "source": [
    "modelVGG = VGG16(include_top = False,weights = 'imagenet',classifier_activation = 'softmax',input_shape = (224, 224, 3))"
   ]
  },
  {
   "cell_type": "code",
   "execution_count": 19,
   "id": "0c4c83d8",
   "metadata": {
    "execution": {
     "iopub.execute_input": "2022-11-25T16:23:02.175200Z",
     "iopub.status.busy": "2022-11-25T16:23:02.173678Z",
     "iopub.status.idle": "2022-11-25T16:23:02.178844Z",
     "shell.execute_reply": "2022-11-25T16:23:02.178125Z"
    },
    "papermill": {
     "duration": 0.056425,
     "end_time": "2022-11-25T16:23:02.180657",
     "exception": false,
     "start_time": "2022-11-25T16:23:02.124232",
     "status": "completed"
    },
    "tags": []
   },
   "outputs": [],
   "source": [
    "for layer in modelVGG.layers:\n",
    "    layer.trainable = False"
   ]
  },
  {
   "cell_type": "code",
   "execution_count": 20,
   "id": "a3db6b31",
   "metadata": {
    "execution": {
     "iopub.execute_input": "2022-11-25T16:23:02.279470Z",
     "iopub.status.busy": "2022-11-25T16:23:02.278937Z",
     "iopub.status.idle": "2022-11-25T16:23:02.289913Z",
     "shell.execute_reply": "2022-11-25T16:23:02.289045Z"
    },
    "papermill": {
     "duration": 0.062473,
     "end_time": "2022-11-25T16:23:02.292022",
     "exception": false,
     "start_time": "2022-11-25T16:23:02.229549",
     "status": "completed"
    },
    "tags": []
   },
   "outputs": [
    {
     "name": "stdout",
     "output_type": "stream",
     "text": [
      "0 InputLayer False\n",
      "1 Conv2D False\n",
      "2 Conv2D False\n",
      "3 MaxPooling2D False\n",
      "4 Conv2D False\n",
      "5 Conv2D False\n",
      "6 MaxPooling2D False\n",
      "7 Conv2D False\n",
      "8 Conv2D False\n",
      "9 Conv2D False\n",
      "10 MaxPooling2D False\n",
      "11 Conv2D False\n",
      "12 Conv2D False\n",
      "13 Conv2D False\n",
      "14 MaxPooling2D False\n",
      "15 Conv2D False\n",
      "16 Conv2D False\n",
      "17 Conv2D False\n",
      "18 MaxPooling2D False\n"
     ]
    }
   ],
   "source": [
    "num_classes = 4\n",
    "for (i,layer) in enumerate(modelVGG.layers):\n",
    "    print(str(i) + \" \"+ layer.__class__.__name__, layer.trainable)\n",
    "    def lw(bottom_model,num_classes):\n",
    "        top_model = bottom_model.output\n",
    "        top_model = GlobalAveragePooling2D()(top_model)\n",
    "        top_model = Dense(1024,activation='relu')(top_model)\n",
    "        top_model = Dense(1024,activation='relu')(top_model)\n",
    "        top_model = Dense(512,activation='relu')(top_model)\n",
    "        top_model = Dense(4,activation='softmax')(top_model)\n",
    "        return top_model"
   ]
  },
  {
   "cell_type": "code",
   "execution_count": 21,
   "id": "dbbac7c3",
   "metadata": {
    "execution": {
     "iopub.execute_input": "2022-11-25T16:23:02.390757Z",
     "iopub.status.busy": "2022-11-25T16:23:02.390561Z",
     "iopub.status.idle": "2022-11-25T16:23:02.424573Z",
     "shell.execute_reply": "2022-11-25T16:23:02.423917Z"
    },
    "papermill": {
     "duration": 0.08499,
     "end_time": "2022-11-25T16:23:02.426233",
     "exception": false,
     "start_time": "2022-11-25T16:23:02.341243",
     "status": "completed"
    },
    "tags": []
   },
   "outputs": [],
   "source": [
    "num_classes = 4\n",
    "FC_Head = lw(modelVGG , num_classes)\n",
    "model = Model(inputs = modelVGG.input,outputs = FC_Head)"
   ]
  },
  {
   "cell_type": "code",
   "execution_count": 22,
   "id": "ea24cada",
   "metadata": {
    "execution": {
     "iopub.execute_input": "2022-11-25T16:23:02.525296Z",
     "iopub.status.busy": "2022-11-25T16:23:02.524633Z",
     "iopub.status.idle": "2022-11-25T16:23:02.539020Z",
     "shell.execute_reply": "2022-11-25T16:23:02.538357Z"
    },
    "papermill": {
     "duration": 0.065275,
     "end_time": "2022-11-25T16:23:02.540989",
     "exception": false,
     "start_time": "2022-11-25T16:23:02.475714",
     "status": "completed"
    },
    "tags": []
   },
   "outputs": [
    {
     "name": "stdout",
     "output_type": "stream",
     "text": [
      "Model: \"model\"\n",
      "_________________________________________________________________\n",
      "Layer (type)                 Output Shape              Param #   \n",
      "=================================================================\n",
      "input_1 (InputLayer)         [(None, 224, 224, 3)]     0         \n",
      "_________________________________________________________________\n",
      "block1_conv1 (Conv2D)        (None, 224, 224, 64)      1792      \n",
      "_________________________________________________________________\n",
      "block1_conv2 (Conv2D)        (None, 224, 224, 64)      36928     \n",
      "_________________________________________________________________\n",
      "block1_pool (MaxPooling2D)   (None, 112, 112, 64)      0         \n",
      "_________________________________________________________________\n",
      "block2_conv1 (Conv2D)        (None, 112, 112, 128)     73856     \n",
      "_________________________________________________________________\n",
      "block2_conv2 (Conv2D)        (None, 112, 112, 128)     147584    \n",
      "_________________________________________________________________\n",
      "block2_pool (MaxPooling2D)   (None, 56, 56, 128)       0         \n",
      "_________________________________________________________________\n",
      "block3_conv1 (Conv2D)        (None, 56, 56, 256)       295168    \n",
      "_________________________________________________________________\n",
      "block3_conv2 (Conv2D)        (None, 56, 56, 256)       590080    \n",
      "_________________________________________________________________\n",
      "block3_conv3 (Conv2D)        (None, 56, 56, 256)       590080    \n",
      "_________________________________________________________________\n",
      "block3_pool (MaxPooling2D)   (None, 28, 28, 256)       0         \n",
      "_________________________________________________________________\n",
      "block4_conv1 (Conv2D)        (None, 28, 28, 512)       1180160   \n",
      "_________________________________________________________________\n",
      "block4_conv2 (Conv2D)        (None, 28, 28, 512)       2359808   \n",
      "_________________________________________________________________\n",
      "block4_conv3 (Conv2D)        (None, 28, 28, 512)       2359808   \n",
      "_________________________________________________________________\n",
      "block4_pool (MaxPooling2D)   (None, 14, 14, 512)       0         \n",
      "_________________________________________________________________\n",
      "block5_conv1 (Conv2D)        (None, 14, 14, 512)       2359808   \n",
      "_________________________________________________________________\n",
      "block5_conv2 (Conv2D)        (None, 14, 14, 512)       2359808   \n",
      "_________________________________________________________________\n",
      "block5_conv3 (Conv2D)        (None, 14, 14, 512)       2359808   \n",
      "_________________________________________________________________\n",
      "block5_pool (MaxPooling2D)   (None, 7, 7, 512)         0         \n",
      "_________________________________________________________________\n",
      "global_average_pooling2d (Gl (None, 512)               0         \n",
      "_________________________________________________________________\n",
      "dense (Dense)                (None, 1024)              525312    \n",
      "_________________________________________________________________\n",
      "dense_1 (Dense)              (None, 1024)              1049600   \n",
      "_________________________________________________________________\n",
      "dense_2 (Dense)              (None, 512)               524800    \n",
      "_________________________________________________________________\n",
      "dense_3 (Dense)              (None, 4)                 2052      \n",
      "=================================================================\n",
      "Total params: 16,816,452\n",
      "Trainable params: 2,101,764\n",
      "Non-trainable params: 14,714,688\n",
      "_________________________________________________________________\n",
      "None\n"
     ]
    }
   ],
   "source": [
    "print(model.summary())\n"
   ]
  },
  {
   "cell_type": "code",
   "execution_count": 23,
   "id": "5cac478a",
   "metadata": {
    "execution": {
     "iopub.execute_input": "2022-11-25T16:23:02.640210Z",
     "iopub.status.busy": "2022-11-25T16:23:02.639688Z",
     "iopub.status.idle": "2022-11-25T16:23:02.681047Z",
     "shell.execute_reply": "2022-11-25T16:23:02.680110Z"
    },
    "papermill": {
     "duration": 0.094078,
     "end_time": "2022-11-25T16:23:02.683813",
     "exception": false,
     "start_time": "2022-11-25T16:23:02.589735",
     "status": "completed"
    },
    "tags": []
   },
   "outputs": [
    {
     "name": "stdout",
     "output_type": "stream",
     "text": [
      "block1_conv1 (3, 3, 3, 64)\n",
      "block1_conv2 (3, 3, 64, 64)\n",
      "block2_conv1 (3, 3, 64, 128)\n",
      "block2_conv2 (3, 3, 128, 128)\n",
      "block3_conv1 (3, 3, 128, 256)\n",
      "block3_conv2 (3, 3, 256, 256)\n",
      "block3_conv3 (3, 3, 256, 256)\n",
      "block4_conv1 (3, 3, 256, 512)\n",
      "block4_conv2 (3, 3, 512, 512)\n",
      "block4_conv3 (3, 3, 512, 512)\n",
      "block5_conv1 (3, 3, 512, 512)\n",
      "block5_conv2 (3, 3, 512, 512)\n",
      "block5_conv3 (3, 3, 512, 512)\n"
     ]
    }
   ],
   "source": [
    "# summarize filters in each convolutional layer\n",
    "#from keras.applications.vgg16 import VGG16\n",
    "#from matplotlib import pyplot\n",
    "# load the model\n",
    "#model = VGG16()\n",
    "# summarize filter shapes\n",
    "for layer in model.layers:\n",
    "# check for convolutional layer\n",
    "    if 'conv' not in layer.name:\n",
    "        continue\n",
    "    # get filter weights\n",
    "    filters, biases = layer.get_weights()\n",
    "    print(layer.name, filters.shape)"
   ]
  },
  {
   "cell_type": "code",
   "execution_count": 24,
   "id": "bccdc101",
   "metadata": {
    "execution": {
     "iopub.execute_input": "2022-11-25T16:23:02.785048Z",
     "iopub.status.busy": "2022-11-25T16:23:02.784809Z",
     "iopub.status.idle": "2022-11-25T16:23:02.794925Z",
     "shell.execute_reply": "2022-11-25T16:23:02.794240Z"
    },
    "papermill": {
     "duration": 0.062539,
     "end_time": "2022-11-25T16:23:02.796785",
     "exception": false,
     "start_time": "2022-11-25T16:23:02.734246",
     "status": "completed"
    },
    "tags": []
   },
   "outputs": [],
   "source": [
    "# normalize filter values to 0-1 so we can visualize them\n",
    "f_min, f_max = filters.min(), filters.max()\n",
    "filters = (filters - f_min) / (f_max - f_min)"
   ]
  },
  {
   "cell_type": "code",
   "execution_count": 25,
   "id": "58fbb447",
   "metadata": {
    "execution": {
     "iopub.execute_input": "2022-11-25T16:23:02.899673Z",
     "iopub.status.busy": "2022-11-25T16:23:02.899076Z",
     "iopub.status.idle": "2022-11-25T16:23:03.566705Z",
     "shell.execute_reply": "2022-11-25T16:23:03.564402Z"
    },
    "papermill": {
     "duration": 0.72147,
     "end_time": "2022-11-25T16:23:03.569741",
     "exception": false,
     "start_time": "2022-11-25T16:23:02.848271",
     "status": "completed"
    },
    "tags": []
   },
   "outputs": [
    {
     "data": {
      "image/png": "[encoded data removed]",
      "text/plain": [
       "<Figure size 1152x1152 with 12 Axes>"
      ]
     },
     "metadata": {},
     "output_type": "display_data"
    }
   ],
   "source": [
    "import matplotlib.pyplot as plt\n",
    "f = plt.figure(figsize=(16,16))\n",
    "nof_filters, ix = 4, 1\n",
    "for i in range(nof_filters):\n",
    "    f = filters[:, :, :, i]\n",
    "    # plot each channel separately\n",
    "    for j in range(3):\n",
    "        ax = plt.subplot(nof_filters, 3, ix)\n",
    "        ax.set_xticks([])\n",
    "        ax.set_yticks([])\n",
    "        # plot filter channel in grayscale\n",
    "        plt.imshow(f[:, :, j], cmap='gray')\n",
    "        ix += 1\n",
    "# show the figure\n",
    "plt.show()\n"
   ]
  },
  {
   "cell_type": "code",
   "execution_count": 26,
   "id": "761a5d90",
   "metadata": {
    "execution": {
     "iopub.execute_input": "2022-11-25T16:23:03.747629Z",
     "iopub.status.busy": "2022-11-25T16:23:03.747310Z",
     "iopub.status.idle": "2022-11-25T16:23:03.761779Z",
     "shell.execute_reply": "2022-11-25T16:23:03.761070Z"
    },
    "papermill": {
     "duration": 0.104731,
     "end_time": "2022-11-25T16:23:03.763563",
     "exception": false,
     "start_time": "2022-11-25T16:23:03.658832",
     "status": "completed"
    },
    "tags": []
   },
   "outputs": [],
   "source": [
    "model.compile(optimizer = 'adam' , loss = 'categorical_crossentropy' , metrics = ['accuracy'])"
   ]
  },
  {
   "cell_type": "code",
   "execution_count": 27,
   "id": "e84d6b6d",
   "metadata": {
    "execution": {
     "iopub.execute_input": "2022-11-25T16:23:03.912439Z",
     "iopub.status.busy": "2022-11-25T16:23:03.911974Z",
     "iopub.status.idle": "2022-11-25T16:23:05.207572Z",
     "shell.execute_reply": "2022-11-25T16:23:05.206747Z"
    },
    "papermill": {
     "duration": 1.372563,
     "end_time": "2022-11-25T16:23:05.209676",
     "exception": false,
     "start_time": "2022-11-25T16:23:03.837113",
     "status": "completed"
    },
    "tags": []
   },
   "outputs": [],
   "source": [
    "from keras.preprocessing.image import ImageDataGenerator \n",
    "datagen = ImageDataGenerator(\n",
    "    featurewise_center=False,  \n",
    "    samplewise_center=False, \n",
    "    featurewise_std_normalization=False,\n",
    "    samplewise_std_normalization=False,  \n",
    "    zca_whitening=False,\n",
    "    rotation_range=50,\n",
    "    width_shift_range=0.01, \n",
    "    height_shift_range=0.01, \n",
    "    horizontal_flip=False, \n",
    "    vertical_flip=False)\n",
    "\n",
    "datagen.fit(x_train)"
   ]
  },
  {
   "cell_type": "code",
   "execution_count": 28,
   "id": "3845a862",
   "metadata": {
    "execution": {
     "iopub.execute_input": "2022-11-25T16:23:05.365258Z",
     "iopub.status.busy": "2022-11-25T16:23:05.365009Z",
     "iopub.status.idle": "2022-11-25T16:24:37.014610Z",
     "shell.execute_reply": "2022-11-25T16:24:37.013722Z"
    },
    "papermill": {
     "duration": 92.051616,
     "end_time": "2022-11-25T16:24:37.362690",
     "exception": false,
     "start_time": "2022-11-25T16:23:05.311074",
     "status": "completed"
    },
    "tags": []
   },
   "outputs": [
    {
     "name": "stderr",
     "output_type": "stream",
     "text": [
      "2022-11-25 16:23:06.346925: I tensorflow/compiler/mlir/mlir_graph_optimization_pass.cc:185] None of the MLIR Optimization Passes are enabled (registered 2)\n"
     ]
    },
    {
     "name": "stdout",
     "output_type": "stream",
     "text": [
      "Epoch 1/10\n"
     ]
    },
    {
     "name": "stderr",
     "output_type": "stream",
     "text": [
      "2022-11-25 16:23:07.850101: I tensorflow/stream_executor/cuda/cuda_dnn.cc:369] Loaded cuDNN version 8005\n"
     ]
    },
    {
     "name": "stdout",
     "output_type": "stream",
     "text": [
      "103/103 [==============================] - 21s 114ms/step - loss: 0.8608 - accuracy: 0.6970 - val_loss: 0.5072 - val_accuracy: 0.7856\n",
      "Epoch 2/10\n",
      "103/103 [==============================] - 8s 75ms/step - loss: 0.4933 - accuracy: 0.8040 - val_loss: 0.5394 - val_accuracy: 0.7881\n",
      "Epoch 3/10\n",
      "103/103 [==============================] - 8s 75ms/step - loss: 0.4425 - accuracy: 0.8165 - val_loss: 0.4930 - val_accuracy: 0.8112\n",
      "Epoch 4/10\n",
      "103/103 [==============================] - 8s 75ms/step - loss: 0.3741 - accuracy: 0.8588 - val_loss: 0.4366 - val_accuracy: 0.8197\n",
      "Epoch 5/10\n",
      "103/103 [==============================] - 8s 75ms/step - loss: 0.3303 - accuracy: 0.8710 - val_loss: 0.4015 - val_accuracy: 0.8526\n",
      "Epoch 6/10\n",
      "103/103 [==============================] - 8s 75ms/step - loss: 0.2911 - accuracy: 0.8866 - val_loss: 0.5467 - val_accuracy: 0.8136\n",
      "Epoch 7/10\n",
      "103/103 [==============================] - 8s 75ms/step - loss: 0.2661 - accuracy: 0.9003 - val_loss: 0.4662 - val_accuracy: 0.8295\n",
      "Epoch 8/10\n",
      "103/103 [==============================] - 8s 75ms/step - loss: 0.2270 - accuracy: 0.9131 - val_loss: 0.6133 - val_accuracy: 0.8002\n",
      "Epoch 9/10\n",
      "103/103 [==============================] - 8s 75ms/step - loss: 0.2529 - accuracy: 0.9009 - val_loss: 0.5319 - val_accuracy: 0.8319\n",
      "Epoch 10/10\n",
      "103/103 [==============================] - 8s 75ms/step - loss: 0.1748 - accuracy: 0.9311 - val_loss: 0.6121 - val_accuracy: 0.8197\n"
     ]
    }
   ],
   "source": [
    "history = model.fit(x_train , y_train , epochs = 10 , validation_data = (x_test , y_test), verbose = 1)"
   ]
  },
  {
   "cell_type": "code",
   "execution_count": 29,
   "id": "8d0f8cbc",
   "metadata": {
    "execution": {
     "iopub.execute_input": "2022-11-25T16:24:38.057882Z",
     "iopub.status.busy": "2022-11-25T16:24:38.057320Z",
     "iopub.status.idle": "2022-11-25T16:24:38.074320Z",
     "shell.execute_reply": "2022-11-25T16:24:38.073584Z"
    },
    "papermill": {
     "duration": 0.364953,
     "end_time": "2022-11-25T16:24:38.076270",
     "exception": false,
     "start_time": "2022-11-25T16:24:37.711317",
     "status": "completed"
    },
    "tags": []
   },
   "outputs": [],
   "source": [
    "%matplotlib inline\n",
    "acc = history.history['accuracy']\n",
    "val_acc = history.history['val_accuracy']\n",
    "loss = history.history['loss']\n",
    "val_loss = history.history['val_loss']\n",
    "\n",
    "epochs = range(len(acc))"
   ]
  },
  {
   "cell_type": "code",
   "execution_count": 30,
   "id": "e716934c",
   "metadata": {
    "execution": {
     "iopub.execute_input": "2022-11-25T16:24:38.787935Z",
     "iopub.status.busy": "2022-11-25T16:24:38.787675Z",
     "iopub.status.idle": "2022-11-25T16:24:39.028881Z",
     "shell.execute_reply": "2022-11-25T16:24:39.028197Z"
    },
    "papermill": {
     "duration": 0.590262,
     "end_time": "2022-11-25T16:24:39.031545",
     "exception": false,
     "start_time": "2022-11-25T16:24:38.441283",
     "status": "completed"
    },
    "tags": []
   },
   "outputs": [
    {
     "data": {
      "image/png": "[encoded data removed]",
      "text/plain": [
       "<Figure size 432x288 with 1 Axes>"
      ]
     },
     "metadata": {
      "needs_background": "light"
     },
     "output_type": "display_data"
    },
    {
     "data": {
      "text/plain": [
       "<Figure size 432x288 with 0 Axes>"
      ]
     },
     "metadata": {},
     "output_type": "display_data"
    }
   ],
   "source": [
    "plt.plot(epochs, acc, 'r', label='Training accuracy')\n",
    "plt.plot(epochs, val_acc, 'b', label='Validation accuracy')\n",
    "plt.title('Training and validation accuracy')\n",
    "plt.legend(loc=0)\n",
    "plt.figure()\n",
    "\n",
    "plt.show()"
   ]
  },
  {
   "cell_type": "code",
   "execution_count": 31,
   "id": "29fcd711",
   "metadata": {
    "execution": {
     "iopub.execute_input": "2022-11-25T16:24:40.112629Z",
     "iopub.status.busy": "2022-11-25T16:24:40.112282Z",
     "iopub.status.idle": "2022-11-25T16:24:40.325310Z",
     "shell.execute_reply": "2022-11-25T16:24:40.324628Z"
    },
    "papermill": {
     "duration": 0.742939,
     "end_time": "2022-11-25T16:24:40.327190",
     "exception": false,
     "start_time": "2022-11-25T16:24:39.584251",
     "status": "completed"
    },
    "tags": []
   },
   "outputs": [
    {
     "data": {
      "image/png": "[encoded data removed]",
      "text/plain": [
       "<Figure size 432x288 with 1 Axes>"
      ]
     },
     "metadata": {
      "needs_background": "light"
     },
     "output_type": "display_data"
    },
    {
     "data": {
      "text/plain": [
       "<Figure size 432x288 with 0 Axes>"
      ]
     },
     "metadata": {},
     "output_type": "display_data"
    }
   ],
   "source": [
    "plt.plot(epochs, loss, 'r', label='Training loss')\n",
    "plt.plot(epochs, val_loss, 'b', label='Validation loss')\n",
    "plt.title('Training and validation loss')\n",
    "plt.legend(loc=0)\n",
    "plt.figure()\n",
    "\n",
    "plt.show()"
   ]
  },
  {
   "cell_type": "code",
   "execution_count": 32,
   "id": "27072d5b",
   "metadata": {
    "execution": {
     "iopub.execute_input": "2022-11-25T16:24:41.037747Z",
     "iopub.status.busy": "2022-11-25T16:24:41.037284Z",
     "iopub.status.idle": "2022-11-25T16:24:41.041895Z",
     "shell.execute_reply": "2022-11-25T16:24:41.041040Z"
    },
    "papermill": {
     "duration": 0.354422,
     "end_time": "2022-11-25T16:24:41.043982",
     "exception": false,
     "start_time": "2022-11-25T16:24:40.689560",
     "status": "completed"
    },
    "tags": []
   },
   "outputs": [],
   "source": [
    "def names(number):\n",
    "    if number==0:\n",
    "        return \"It's a leaf with disease Brown Spots\"\n",
    "    elif number==1:\n",
    "        return \"It's a Healthy leaf\"\n",
    "    elif number==2:\n",
    "        return \"It's a leaf with disease Leaf Blast\"\n",
    "    elif number==3:\n",
    "        return \"It's a leaf with disease Leaf Blast\""
   ]
  },
  {
   "cell_type": "code",
   "execution_count": 33,
   "id": "7a9fc843",
   "metadata": {
    "execution": {
     "iopub.execute_input": "2022-11-25T16:24:41.742794Z",
     "iopub.status.busy": "2022-11-25T16:24:41.742540Z",
     "iopub.status.idle": "2022-11-25T16:24:41.747821Z",
     "shell.execute_reply": "2022-11-25T16:24:41.747118Z"
    },
    "papermill": {
     "duration": 0.358024,
     "end_time": "2022-11-25T16:24:41.749488",
     "exception": false,
     "start_time": "2022-11-25T16:24:41.391464",
     "status": "completed"
    },
    "tags": []
   },
   "outputs": [],
   "source": [
    "from matplotlib.pyplot import imshow\n",
    "def Prediction(img):\n",
    "    #img = Image.open(r\"../input/corn-or-maize-leaf-disease-dataset/data/Blight/Corn_Blight (1010).JPG\")\n",
    "    x = np.array(img.resize((224,224)))\n",
    "    x = x.reshape(1,224,224,3)\n",
    "    res = model.predict_on_batch(x)\n",
    "    classification = np.where(res == np.amax(res))[1][0]\n",
    "    imshow(img)\n",
    "    print(str(res[0][classification]*100) + '% Confidence ' + names(classification))"
   ]
  },
  {
   "cell_type": "code",
   "execution_count": 34,
   "id": "ed5f63a8",
   "metadata": {
    "execution": {
     "iopub.execute_input": "2022-11-25T16:24:42.451681Z",
     "iopub.status.busy": "2022-11-25T16:24:42.451231Z",
     "iopub.status.idle": "2022-11-25T16:24:43.508196Z",
     "shell.execute_reply": "2022-11-25T16:24:43.507516Z"
    },
    "papermill": {
     "duration": 1.408167,
     "end_time": "2022-11-25T16:24:43.510052",
     "exception": false,
     "start_time": "2022-11-25T16:24:42.101885",
     "status": "completed"
    },
    "tags": []
   },
   "outputs": [
    {
     "name": "stdout",
     "output_type": "stream",
     "text": [
      "100.0% Confidence It's a leaf with disease Brown Spots\n"
     ]
    },
    {
     "data": {
      "image/png": "[encoded data removed]",
      "text/plain": [
       "<Figure size 432x288 with 1 Axes>"
      ]
     },
     "metadata": {
      "needs_background": "light"
     },
     "output_type": "display_data"
    }
   ],
   "source": [
    "img = Image.open(r\"../input/ricediseasedataset/rice-disease-dataset/data/Rice___Brown_Spot/DSC_0305.JPG\")\n",
    "Prediction(img)"
   ]
  },
  {
   "cell_type": "code",
   "execution_count": 35,
   "id": "f36d990c",
   "metadata": {
    "execution": {
     "iopub.execute_input": "2022-11-25T16:24:44.207591Z",
     "iopub.status.busy": "2022-11-25T16:24:44.206995Z",
     "iopub.status.idle": "2022-11-25T16:24:46.041297Z",
     "shell.execute_reply": "2022-11-25T16:24:46.040448Z"
    },
    "papermill": {
     "duration": 2.18479,
     "end_time": "2022-11-25T16:24:46.043880",
     "exception": false,
     "start_time": "2022-11-25T16:24:43.859090",
     "status": "completed"
    },
    "tags": []
   },
   "outputs": [
    {
     "name": "stdout",
     "output_type": "stream",
     "text": [
      "[INFO] Calculating model accuracy\n",
      "26/26 [==============================] - 2s 60ms/step - loss: 0.6121 - accuracy: 0.8197\n",
      "Test Accuracy: 81.97320103645325\n"
     ]
    }
   ],
   "source": [
    "print(\"[INFO] Calculating model accuracy\")\n",
    "scores = model.evaluate(x_test, y_test)\n",
    "print(f\"Test Accuracy: {scores[1]*100}\")"
   ]
  }
 ],
 "metadata": {
  "kernelspec": {
   "display_name": "Python 3",
   "language": "python",
   "name": "python3"
  },
  "language_info": {
   "codemirror_mode": {
    "name": "ipython",
    "version": 3
   },
   "file_extension": ".py",
   "mimetype": "text/x-python",
   "name": "python",
   "nbconvert_exporter": "python",
   "pygments_lexer": "ipython3",
   "version": "3.7.12"
  },
  "papermill": {
   "default_parameters": {},
   "duration": 442.518133,
   "end_time": "2022-11-25T16:24:50.080018",
   "environment_variables": {},
   "exception": null,
   "input_path": "__notebook__.ipynb",
   "output_path": "__notebook__.ipynb",
   "parameters": {},
   "start_time": "2022-11-25T16:17:27.561885",
   "version": "2.3.4"
  }
 },
 "nbformat": 4,
 "nbformat_minor": 5
}
